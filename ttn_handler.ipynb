{
 "cells": [
  {
   "cell_type": "code",
   "execution_count": 5,
   "metadata": {},
   "outputs": [],
   "source": [
    "from datetime import datetime\n",
    "import urllib.request, json\n",
    "import ttn\n",
    "\n",
    "\n",
    "class ttn_handler:\n",
    "    def __init__(self, app_id, access_key, callback):\n",
    "        self.handler = ttn.HandlerClient(app_id, access_key)\n",
    "        self.mqtt_client = self.handler.data()\n",
    "        self.mqtt_client.set_uplink_callback(callback)\n",
    "        self.mqtt_client.connect()\n",
    "        self.location_cache = dict()\n",
    "        \n",
    "    def __del__(self):\n",
    "        self.mqtt_client.close()\n",
    "        \n",
    "    def gtw_location(self, gtw_id):\n",
    "        if gtw_id in self.location_cache:\n",
    "            return self.location_cache[gtw_id]\n",
    "        \n",
    "        try:\n",
    "            with urllib.request.urlopen('https://www.thethingsnetwork.org/gateway-data/gateway/' + gtw_id) as url:\n",
    "                data = json.loads(url.read().decode())\n",
    "                loc_raw = data[gtw_id]['location']\n",
    "                loc = (loc_raw['latitude'], loc_raw['longitude'])\n",
    "                self.location_cache[gtw_id] = loc\n",
    "                return loc\n",
    "        except:\n",
    "            return None\n",
    "        \n",
    "    def rssi_to_dist(self, rssi):\n",
    "        return int(10.0 ** ((12-rssi)/(4*10)))\n",
    "    \n",
    "    def msg_timestamp(msg):\n",
    "        timestring = msg['metadata']['time'].split('.', 1)[0]\n",
    "        return int(datetime.strptime(timestring, '%Y-%m-%dT%H:%M:%S').timestamp())\n",
    "\n",
    "    # TTN namedtuples are annoying to pickle...\n",
    "    def msg_to_dict(msg):\n",
    "        retval = msg._asdict()\n",
    "        retval['metadata'] = retval['metadata']._asdict()\n",
    "        retval['metadata']['gateways'] = [e._asdict() for e in retval['metadata']['gateways']]\n",
    "        return retval"
   ]
  }
 ],
 "metadata": {
  "kernelspec": {
   "display_name": "Python 3",
   "language": "python",
   "name": "python3"
  },
  "language_info": {
   "codemirror_mode": {
    "name": "ipython",
    "version": 3
   },
   "file_extension": ".py",
   "mimetype": "text/x-python",
   "name": "python",
   "nbconvert_exporter": "python",
   "pygments_lexer": "ipython3",
   "version": "3.7.6"
  }
 },
 "nbformat": 4,
 "nbformat_minor": 4
}
