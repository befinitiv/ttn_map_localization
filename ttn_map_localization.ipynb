{
 "cells": [
  {
   "cell_type": "code",
   "execution_count": 4,
   "metadata": {},
   "outputs": [
    {
     "name": "stdout",
     "output_type": "stream",
     "text": [
      "Received uplink from  testnode\n",
      "MSG(app_id='befinitiv-testnode', dev_id='testnode', hardware_serial='009B45E4337B4515', port=1, counter=0, payload_raw='EjQ=', metadata=MSG(time='2020-03-15T21:21:43.2749658Z'))\n",
      "Received uplink from  testnode\n",
      "MSG(app_id='befinitiv-testnode', dev_id='testnode', hardware_serial='009B45E4337B4515', port=1, counter=0, is_retry=True, payload_raw='8AEcAQ==', metadata=MSG(time='2020-03-15T21:22:28.028471756Z', frequency=868.1, modulation='LORA', data_rate='SF10BW125', airtime=329728000, coding_rate='4/5', gateways=[MSG(gtw_id='eui-fcc23dfffe0e316a', timestamp=593687748, time='', channel=0, rssi=-95, snr=11.8, rf_chain=0)]))\n"
     ]
    }
   ],
   "source": [
    "import ttn\n",
    "from ipyleaflet import Map, basemaps\n",
    "\n",
    "\n",
    "app_id = 'befinitiv-testnode'\n",
    "access_key = 'ttn-account-****'\n",
    "\n",
    "m = Map(basemap=basemaps.OpenStreetMap.Mapnik, zoom=2)\n",
    "\n",
    "def uplink_callback(msg, client):\n",
    "  print('Received uplink from ', msg.dev_id)\n",
    "  print(msg)\n",
    "      \n",
    "handler = ttn.HandlerClient(app_id, access_key)\n",
    "mqtt_client = handler.data()\n",
    "mqtt_client.set_uplink_callback(uplink_callback)\n",
    "mqtt_client.connect()"
   ]
  },
  {
   "cell_type": "code",
   "execution_count": 2,
   "metadata": {},
   "outputs": [
    {
     "data": {
      "application/vnd.jupyter.widget-view+json": {
       "model_id": "b52d086da5be47308cb2ac40d3205849",
       "version_major": 2,
       "version_minor": 0
      },
      "text/plain": [
       "Map(center=[0.0, 0.0], controls=(ZoomControl(options=['position', 'zoom_in_text', 'zoom_in_title', 'zoom_out_t…"
      ]
     },
     "metadata": {},
     "output_type": "display_data"
    }
   ],
   "source": [
    "m"
   ]
  },
  {
   "cell_type": "code",
   "execution_count": null,
   "metadata": {},
   "outputs": [],
   "source": []
  }
 ],
 "metadata": {
  "kernelspec": {
   "display_name": "Python 3",
   "language": "python",
   "name": "python3"
  },
  "language_info": {
   "codemirror_mode": {
    "name": "ipython",
    "version": 3
   },
   "file_extension": ".py",
   "mimetype": "text/x-python",
   "name": "python",
   "nbconvert_exporter": "python",
   "pygments_lexer": "ipython3",
   "version": "3.7.6"
  }
 },
 "nbformat": 4,
 "nbformat_minor": 4
}
