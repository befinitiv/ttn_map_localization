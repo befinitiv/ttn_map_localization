{
 "cells": [
  {
   "cell_type": "code",
   "execution_count": 4,
   "metadata": {
    "scrolled": false
   },
   "outputs": [
    {
     "data": {
      "application/vnd.jupyter.widget-view+json": {
       "model_id": "aa48a35fd5f04ebbb8163a00a54dd3b9",
       "version_major": 2,
       "version_minor": 0
      },
      "text/plain": [
       "Map(center=[0.0, 0.0], controls=(ZoomControl(options=['position', 'zoom_in_text', 'zoom_in_title', 'zoom_out_t…"
      ]
     },
     "metadata": {},
     "output_type": "display_data"
    },
    {
     "data": {
      "application/vnd.jupyter.widget-view+json": {
       "model_id": "eb1e00113cca4bb8930334d660ec16fe",
       "version_major": 2,
       "version_minor": 0
      },
      "text/plain": [
       "VBox(children=(HBox(children=(Label(value='Last seen: Never'), Checkbox(value=True, description='Live update',…"
      ]
     },
     "metadata": {},
     "output_type": "display_data"
    }
   ],
   "source": [
    "%run ttn_handler.ipynb # The run behaves like an import. This is needed since this is not a .py file\n",
    "%run map_handler.ipynb\n",
    "%run gui.ipynb\n",
    "%run storage.ipynb\n",
    "\n",
    "# TTN access info\n",
    "app_id = 'befinitiv-testnode'\n",
    "access_key = 'ttn-account-****'\n",
    "\n",
    "\n",
    "# gets called from TTN\n",
    "def uplink_callback(msg, client):\n",
    "    msgdict = ttn_handler.msg_to_dict(msg)\n",
    "    if g.w_live.value:\n",
    "        s.append_msg(msgdict)\n",
    "        update_map(msgdict)\n",
    "        g.update(s.msg_count(), s.msg_count()-1, ttn_handler.msg_timestamp(msgdict))\n",
    "\n",
    "# gets called from slider\n",
    "def replay_callback(msg_idx):\n",
    "    msg = s.get_msg(msg_idx)\n",
    "    update_map(msg)\n",
    "    g.update(s.msg_count(), msg_idx, ttn_handler.msg_timestamp(msg))\n",
    "    \n",
    "# gets called from \"Load TTN file\"\n",
    "def load_ttn_callback(inbytes):\n",
    "    s.load(inbytes)\n",
    "    replay_callback(0)\n",
    "    \n",
    "# clears map and adds red circles for each gateway that received our msg\n",
    "def update_map(msg):\n",
    "    map_hnd.clear_circles()\n",
    "    for gw in msg['metadata']['gateways']:\n",
    "        loc = ttn_hnd.gtw_location(gw['gtw_id'])\n",
    "        if loc != None:\n",
    "            map_hnd.add_circle((*loc, ttn_hnd.rssi_to_dist(gw['rssi'])))\n",
    "\n",
    "    map_hnd.center_map(loc)\n",
    "      \n",
    "map_hnd = map_handler(zoom=2)\n",
    "ttn_hnd = ttn_handler(app_id, access_key, uplink_callback)\n",
    "s = storage()\n",
    "g = gui(replay_callback, s.save_file, load_ttn_callback, map_hnd.load_gpx_track)\n"
   ]
  },
  {
   "cell_type": "code",
   "execution_count": null,
   "metadata": {
    "scrolled": false
   },
   "outputs": [],
   "source": []
  },
  {
   "cell_type": "code",
   "execution_count": null,
   "metadata": {},
   "outputs": [],
   "source": []
  }
 ],
 "metadata": {
  "kernelspec": {
   "display_name": "Python 3",
   "language": "python",
   "name": "python3"
  },
  "language_info": {
   "codemirror_mode": {
    "name": "ipython",
    "version": 3
   },
   "file_extension": ".py",
   "mimetype": "text/x-python",
   "name": "python",
   "nbconvert_exporter": "python",
   "pygments_lexer": "ipython3",
   "version": "3.7.6"
  }
 },
 "nbformat": 4,
 "nbformat_minor": 4
}
