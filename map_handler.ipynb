{
 "cells": [
  {
   "cell_type": "code",
   "execution_count": 1,
   "metadata": {},
   "outputs": [],
   "source": [
    "from ipyleaflet import Map, basemaps, Circle, Polyline # Stuff for the map\n",
    "import gpxpy\n",
    "import gpxpy.gpx\n",
    "\n",
    "class map_handler:\n",
    "    def __init__(self, zoom):\n",
    "        self.m = Map(basemap=basemaps.OpenStreetMap.Mapnik, zoom=2)\n",
    "        self.m.layout.height = '700px'\n",
    "        self.circle_layer = []\n",
    "        self.track_layer = []\n",
    "        self.center = None\n",
    "        display(self.m)\n",
    "        \n",
    "    def add_circle(self, circle): #circle is a tuple of (lat, lon, radius)\n",
    "        c = Circle()\n",
    "        c.location = (circle[0], circle[1])\n",
    "        c.radius = circle[2]\n",
    "        c.color = 'red'\n",
    "        c.fill_color = 'red'\n",
    "        self.circle_layer.append(c)\n",
    "        self.m.add_layer(c)\n",
    "            \n",
    "    def clear_circles(self):\n",
    "        for c in self.circle_layer:\n",
    "            self.m.remove_layer(c)\n",
    "        self.circle_layer = []\n",
    "        \n",
    "    def center_map(self, loc):\n",
    "        if self.center == None: #map is centered only once\n",
    "            self.m.center = loc\n",
    "            self.m.zoom = 13\n",
    "            self.center = loc\n",
    "            \n",
    "    def load_gpx_track(self, gpxdata):\n",
    "        gpx = gpxpy.parse(gpxdata)\n",
    "        \n",
    "        locs = []\n",
    "        for track in gpx.tracks:\n",
    "            for segment in track.segments:\n",
    "                for point in segment.points:\n",
    "                    locs.append([point.latitude, point.longitude])\n",
    "                    \n",
    "        line = Polyline(locations=[locs], color='#3366FF', fill=False)\n",
    "        \n",
    "        self.track_layer.append(line)\n",
    "        self.m.add_layer(line)\n",
    "        \n",
    "    def clear_gpx_tracks(self):\n",
    "        for t in self.track_layer:\n",
    "            self.m.remove_layer(t)\n",
    "        self.track_layer = []"
   ]
  }
 ],
 "metadata": {
  "kernelspec": {
   "display_name": "Python 3",
   "language": "python",
   "name": "python3"
  },
  "language_info": {
   "codemirror_mode": {
    "name": "ipython",
    "version": 3
   },
   "file_extension": ".py",
   "mimetype": "text/x-python",
   "name": "python",
   "nbconvert_exporter": "python",
   "pygments_lexer": "ipython3",
   "version": "3.7.6"
  }
 },
 "nbformat": 4,
 "nbformat_minor": 4
}
