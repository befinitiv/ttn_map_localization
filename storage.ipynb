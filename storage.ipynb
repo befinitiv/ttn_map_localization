{
 "cells": [
  {
   "cell_type": "code",
   "execution_count": 2,
   "metadata": {},
   "outputs": [],
   "source": [
    "import time\n",
    "import pickle\n",
    "from ttn.utils import json2obj\n",
    "\n",
    "class storage:\n",
    "    def __init__(self):\n",
    "        self.data = list()\n",
    "        \n",
    "    def append_msg(self, msg):\n",
    "        self.data.append(msg)\n",
    "    \n",
    "    def get_msg(self, msg_index):\n",
    "        return self.data[msg_index]\n",
    "    \n",
    "    def msg_count(self):\n",
    "        return len(self.data)\n",
    "    \n",
    "    def load(self, inbytes):\n",
    "        self.data = pickle.loads(inbytes)\n",
    "    \n",
    "    def save_file(self):\n",
    "        timestr = time.strftime(\"%Y%m%d-%H%M%S\")\n",
    "        pickle.dump( self.data, open( timestr+'.pickle', \"wb\" ))"
   ]
  }
 ],
 "metadata": {
  "kernelspec": {
   "display_name": "Python 3",
   "language": "python",
   "name": "python3"
  },
  "language_info": {
   "codemirror_mode": {
    "name": "ipython",
    "version": 3
   },
   "file_extension": ".py",
   "mimetype": "text/x-python",
   "name": "python",
   "nbconvert_exporter": "python",
   "pygments_lexer": "ipython3",
   "version": "3.7.6"
  }
 },
 "nbformat": 4,
 "nbformat_minor": 4
}
